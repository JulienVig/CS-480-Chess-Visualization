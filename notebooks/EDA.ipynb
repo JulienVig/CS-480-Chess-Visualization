{
 "cells": [
  {
   "cell_type": "code",
   "execution_count": 1,
   "metadata": {
    "ExecuteTime": {
     "end_time": "2021-03-08T11:11:56.315266Z",
     "start_time": "2021-03-08T11:11:54.756310Z"
    }
   },
   "outputs": [],
   "source": [
    "import pandas as pd\n",
    "import matplotlib.pyplot as plt\n",
    "import statsmodels.formula.api as smf"
   ]
  },
  {
   "cell_type": "markdown",
   "metadata": {},
   "source": [
    "### Loading dataframe\n",
    "\n",
    "Data comes from the the online chess platform lichess.com, and contains data from more than 800 000 played games."
   ]
  },
  {
   "cell_type": "code",
   "execution_count": 4,
   "metadata": {
    "ExecuteTime": {
     "end_time": "2021-03-08T11:12:24.788791Z",
     "start_time": "2021-03-08T11:12:16.558696Z"
    },
    "scrolled": false
   },
   "outputs": [
    {
     "data": {
      "text/html": [
       "<div>\n",
       "<style scoped>\n",
       "    .dataframe tbody tr th:only-of-type {\n",
       "        vertical-align: middle;\n",
       "    }\n",
       "\n",
       "    .dataframe tbody tr th {\n",
       "        vertical-align: top;\n",
       "    }\n",
       "\n",
       "    .dataframe thead th {\n",
       "        text-align: right;\n",
       "    }\n",
       "</style>\n",
       "<table border=\"1\" class=\"dataframe\">\n",
       "  <thead>\n",
       "    <tr style=\"text-align: right;\">\n",
       "      <th></th>\n",
       "      <th>PGN</th>\n",
       "      <th>Mode</th>\n",
       "      <th>Site</th>\n",
       "      <th>UTCDate</th>\n",
       "      <th>UTCTime</th>\n",
       "      <th>ECO</th>\n",
       "      <th>Opening</th>\n",
       "      <th>TimeControl</th>\n",
       "      <th>Termination Type</th>\n",
       "      <th>wElo</th>\n",
       "      <th>bElo</th>\n",
       "      <th>wWin</th>\n",
       "      <th>bWin</th>\n",
       "      <th>Draw</th>\n",
       "      <th>wPseudo</th>\n",
       "      <th>bPseudo</th>\n",
       "      <th>wRatingDiff</th>\n",
       "      <th>bRatingDiff</th>\n",
       "    </tr>\n",
       "  </thead>\n",
       "  <tbody>\n",
       "    <tr>\n",
       "      <th>0</th>\n",
       "      <td>1. e4 g6 2. d4 Bg7 3. c3 d6 4. Qf3 Nf6 5. h3 O...</td>\n",
       "      <td>Classical</td>\n",
       "      <td>https://lichess.org/Gg06eUOY</td>\n",
       "      <td>2014.07.31</td>\n",
       "      <td>22:00:00</td>\n",
       "      <td>B06</td>\n",
       "      <td>Robatsch (Modern) Defense</td>\n",
       "      <td>420+8</td>\n",
       "      <td>Time forfeit</td>\n",
       "      <td>1407</td>\n",
       "      <td>1669</td>\n",
       "      <td>0</td>\n",
       "      <td>1</td>\n",
       "      <td>0</td>\n",
       "      <td>rima65</td>\n",
       "      <td>aywee</td>\n",
       "      <td>-5</td>\n",
       "      <td>+5</td>\n",
       "    </tr>\n",
       "    <tr>\n",
       "      <th>1</th>\n",
       "      <td>1. d4 Nf6 2. c4 g6 3. a3 Bg7 4. Nf3 O-O 5. Nc3...</td>\n",
       "      <td>Blitz</td>\n",
       "      <td>https://lichess.org/bjX4slJM</td>\n",
       "      <td>2014.07.31</td>\n",
       "      <td>22:00:53</td>\n",
       "      <td>E61</td>\n",
       "      <td>Indian Game: West Indian Defense</td>\n",
       "      <td>420+0</td>\n",
       "      <td>Time forfeit</td>\n",
       "      <td>1382</td>\n",
       "      <td>1602</td>\n",
       "      <td>0</td>\n",
       "      <td>1</td>\n",
       "      <td>0</td>\n",
       "      <td>tor48</td>\n",
       "      <td>novatojugad</td>\n",
       "      <td>-5</td>\n",
       "      <td>+5</td>\n",
       "    </tr>\n",
       "  </tbody>\n",
       "</table>\n",
       "</div>"
      ],
      "text/plain": [
       "                                                 PGN       Mode  \\\n",
       "0  1. e4 g6 2. d4 Bg7 3. c3 d6 4. Qf3 Nf6 5. h3 O...  Classical   \n",
       "1  1. d4 Nf6 2. c4 g6 3. a3 Bg7 4. Nf3 O-O 5. Nc3...      Blitz   \n",
       "\n",
       "                           Site     UTCDate   UTCTime  ECO  \\\n",
       "0  https://lichess.org/Gg06eUOY  2014.07.31  22:00:00  B06   \n",
       "1  https://lichess.org/bjX4slJM  2014.07.31  22:00:53  E61   \n",
       "\n",
       "                            Opening TimeControl Termination Type  wElo  bElo  \\\n",
       "0         Robatsch (Modern) Defense       420+8     Time forfeit  1407  1669   \n",
       "1  Indian Game: West Indian Defense       420+0     Time forfeit  1382  1602   \n",
       "\n",
       "   wWin  bWin  Draw wPseudo      bPseudo wRatingDiff bRatingDiff  \n",
       "0     0     1     0  rima65        aywee          -5          +5  \n",
       "1     0     1     0   tor48  novatojugad          -5          +5  "
      ]
     },
     "execution_count": 4,
     "metadata": {},
     "output_type": "execute_result"
    }
   ],
   "source": [
    "df = pd.read_csv(\"../data/lichess_complete.csv\", index_col=0)\n",
    "df.head(2)"
   ]
  },
  {
   "cell_type": "code",
   "execution_count": 5,
   "metadata": {
    "ExecuteTime": {
     "end_time": "2021-03-08T11:12:27.358127Z",
     "start_time": "2021-03-08T11:12:27.340536Z"
    }
   },
   "outputs": [
    {
     "data": {
      "text/plain": [
       "843230"
      ]
     },
     "execution_count": 5,
     "metadata": {},
     "output_type": "execute_result"
    }
   ],
   "source": [
    "len(df.index)"
   ]
  },
  {
   "cell_type": "markdown",
   "metadata": {},
   "source": [
    "### Game modes\n",
    "\n",
    "There are 4 possible game modes : Blitz, Bullet, Classical and Correspondance.\n",
    "\n",
    "Blitz refers to a game that has a fast time control (between 5 and 10 minutes).\n",
    "\n",
    "Bullet is even faster than blitz chess, faster than 3 minutes per player.\n",
    "\n",
    "Classical chess time control is more than 25 minutes.\n",
    "\n",
    "Correspondance chess means on lichess that is is a classical chess game, but opening a book is allowed."
   ]
  },
  {
   "cell_type": "code",
   "execution_count": 6,
   "metadata": {
    "ExecuteTime": {
     "end_time": "2021-03-08T11:12:35.273349Z",
     "start_time": "2021-03-08T11:12:34.467522Z"
    }
   },
   "outputs": [
    {
     "data": {
      "text/plain": [
       "Mode\n",
       "Blitz             372651\n",
       "Bullet            235828\n",
       "Classical         232835\n",
       "Correspondence      1916\n",
       "Name: PGN, dtype: int64"
      ]
     },
     "execution_count": 6,
     "metadata": {},
     "output_type": "execute_result"
    }
   ],
   "source": [
    "df.groupby('Mode').count()['PGN']"
   ]
  },
  {
   "cell_type": "markdown",
   "metadata": {},
   "source": [
    "### Openings"
   ]
  },
  {
   "cell_type": "markdown",
   "metadata": {},
   "source": [
    "There are 2580 different openings that have been played. The most popular being Van't Kruijs Opening (played 22139 times). On the contrary, there are 198 openings that only have been played once."
   ]
  },
  {
   "cell_type": "code",
   "execution_count": 7,
   "metadata": {
    "ExecuteTime": {
     "end_time": "2021-03-08T11:12:38.946658Z",
     "start_time": "2021-03-08T11:12:38.179195Z"
    }
   },
   "outputs": [
    {
     "data": {
      "text/plain": [
       "2580"
      ]
     },
     "execution_count": 7,
     "metadata": {},
     "output_type": "execute_result"
    }
   ],
   "source": [
    "len(df.groupby('Opening').count())"
   ]
  },
  {
   "cell_type": "code",
   "execution_count": 8,
   "metadata": {
    "ExecuteTime": {
     "end_time": "2021-03-08T11:12:49.566244Z",
     "start_time": "2021-03-08T11:12:48.812296Z"
    }
   },
   "outputs": [
    {
     "data": {
      "text/plain": [
       "Opening\n",
       "Van\\'t Kruijs Opening                            22139\n",
       "Modern Defense                                   16975\n",
       "Horwitz Defense                                  16671\n",
       "Scandinavian Defense: Mieses-Kotroc Variation    14388\n",
       "Owen Defense                                     13601\n",
       "French Defense: Knight Variation                 12588\n",
       "Sicilian Defense                                 11258\n",
       "Caro-Kann Defense                                10886\n",
       "Hungarian Opening                                10791\n",
       "Queen\\'s Pawn Game #2                            10770\n",
       "Name: PGN, dtype: int64"
      ]
     },
     "execution_count": 8,
     "metadata": {},
     "output_type": "execute_result"
    }
   ],
   "source": [
    "df.groupby('Opening').count()['PGN'].sort_values(ascending=False).head(10)"
   ]
  },
  {
   "cell_type": "code",
   "execution_count": 9,
   "metadata": {
    "ExecuteTime": {
     "end_time": "2021-03-08T11:12:51.160837Z",
     "start_time": "2021-03-08T11:12:50.409140Z"
    },
    "scrolled": false
   },
   "outputs": [
    {
     "data": {
      "text/plain": [
       "PGN\n",
       "1    198\n",
       "2    117\n",
       "3    110\n",
       "4     66\n",
       "5     75\n",
       "Name: ECO, dtype: int64"
      ]
     },
     "execution_count": 9,
     "metadata": {},
     "output_type": "execute_result"
    }
   ],
   "source": [
    "df.groupby('Opening').count().groupby('PGN').count()['ECO'].head()"
   ]
  },
  {
   "cell_type": "markdown",
   "metadata": {},
   "source": [
    "For the Whites, among the 20 most used opening, the one that won the most is the Scandinavian Defense: Mieses-Kotroc Variation, with a winning rate of 0.57, slightly above average, and the Sicilian Defense seems to be the worst one (0.41 for the Whites)."
   ]
  },
  {
   "cell_type": "code",
   "execution_count": 10,
   "metadata": {
    "ExecuteTime": {
     "end_time": "2021-03-08T11:12:55.207590Z",
     "start_time": "2021-03-08T11:12:53.491803Z"
    }
   },
   "outputs": [
    {
     "data": {
      "text/html": [
       "<div>\n",
       "<style scoped>\n",
       "    .dataframe tbody tr th:only-of-type {\n",
       "        vertical-align: middle;\n",
       "    }\n",
       "\n",
       "    .dataframe tbody tr th {\n",
       "        vertical-align: top;\n",
       "    }\n",
       "\n",
       "    .dataframe thead th {\n",
       "        text-align: right;\n",
       "    }\n",
       "</style>\n",
       "<table border=\"1\" class=\"dataframe\">\n",
       "  <thead>\n",
       "    <tr style=\"text-align: right;\">\n",
       "      <th></th>\n",
       "      <th>Opening</th>\n",
       "      <th>wWin</th>\n",
       "      <th>n_win</th>\n",
       "      <th>Win Rate</th>\n",
       "    </tr>\n",
       "  </thead>\n",
       "  <tbody>\n",
       "    <tr>\n",
       "      <th>1</th>\n",
       "      <td>Van\\'t Kruijs Opening</td>\n",
       "      <td>1</td>\n",
       "      <td>9826</td>\n",
       "      <td>0.443832</td>\n",
       "    </tr>\n",
       "    <tr>\n",
       "      <th>2</th>\n",
       "      <td>Horwitz Defense</td>\n",
       "      <td>1</td>\n",
       "      <td>9257</td>\n",
       "      <td>0.555276</td>\n",
       "    </tr>\n",
       "    <tr>\n",
       "      <th>4</th>\n",
       "      <td>Scandinavian Defense: Mieses-Kotroc Variation</td>\n",
       "      <td>1</td>\n",
       "      <td>8240</td>\n",
       "      <td>0.572699</td>\n",
       "    </tr>\n",
       "    <tr>\n",
       "      <th>5</th>\n",
       "      <td>Modern Defense</td>\n",
       "      <td>1</td>\n",
       "      <td>8222</td>\n",
       "      <td>0.484359</td>\n",
       "    </tr>\n",
       "    <tr>\n",
       "      <th>7</th>\n",
       "      <td>Owen Defense</td>\n",
       "      <td>1</td>\n",
       "      <td>7013</td>\n",
       "      <td>0.515624</td>\n",
       "    </tr>\n",
       "  </tbody>\n",
       "</table>\n",
       "</div>"
      ],
      "text/plain": [
       "                                         Opening  wWin  n_win  Win Rate\n",
       "1                          Van\\'t Kruijs Opening     1   9826  0.443832\n",
       "2                                Horwitz Defense     1   9257  0.555276\n",
       "4  Scandinavian Defense: Mieses-Kotroc Variation     1   8240  0.572699\n",
       "5                                 Modern Defense     1   8222  0.484359\n",
       "7                                   Owen Defense     1   7013  0.515624"
      ]
     },
     "execution_count": 10,
     "metadata": {},
     "output_type": "execute_result"
    }
   ],
   "source": [
    "op_tot = df.groupby('Opening').count()['PGN']\n",
    "\n",
    "df_op_win = df.groupby(['Opening', 'wWin']).count()['PGN'].sort_values(ascending=False).reset_index()\n",
    "df_op_win.rename(columns={'PGN':'n_win'}, inplace=True)\n",
    "df_op_win['Win Rate'] = df_op_win.apply(lambda row : row['n_win'] / op_tot[row['Opening']], axis =1)\n",
    "df_op_win[df_op_win['wWin'] == 1].head(5)"
   ]
  },
  {
   "cell_type": "code",
   "execution_count": 11,
   "metadata": {
    "ExecuteTime": {
     "end_time": "2021-03-08T11:12:55.231916Z",
     "start_time": "2021-03-08T11:12:55.212801Z"
    }
   },
   "outputs": [
    {
     "data": {
      "text/html": [
       "<div>\n",
       "<style scoped>\n",
       "    .dataframe tbody tr th:only-of-type {\n",
       "        vertical-align: middle;\n",
       "    }\n",
       "\n",
       "    .dataframe tbody tr th {\n",
       "        vertical-align: top;\n",
       "    }\n",
       "\n",
       "    .dataframe thead th {\n",
       "        text-align: right;\n",
       "    }\n",
       "</style>\n",
       "<table border=\"1\" class=\"dataframe\">\n",
       "  <thead>\n",
       "    <tr style=\"text-align: right;\">\n",
       "      <th></th>\n",
       "      <th>Opening</th>\n",
       "      <th>wWin</th>\n",
       "      <th>n_win</th>\n",
       "      <th>Win Rate</th>\n",
       "    </tr>\n",
       "  </thead>\n",
       "  <tbody>\n",
       "    <tr>\n",
       "      <th>4</th>\n",
       "      <td>Scandinavian Defense: Mieses-Kotroc Variation</td>\n",
       "      <td>1</td>\n",
       "      <td>8240</td>\n",
       "      <td>0.572699</td>\n",
       "    </tr>\n",
       "    <tr>\n",
       "      <th>26</th>\n",
       "      <td>French Defense: Normal Variation</td>\n",
       "      <td>1</td>\n",
       "      <td>4509</td>\n",
       "      <td>0.571410</td>\n",
       "    </tr>\n",
       "    <tr>\n",
       "      <th>19</th>\n",
       "      <td>Philidor Defense #3</td>\n",
       "      <td>1</td>\n",
       "      <td>5242</td>\n",
       "      <td>0.568670</td>\n",
       "    </tr>\n",
       "    <tr>\n",
       "      <th>28</th>\n",
       "      <td>Bishop\\'s Opening</td>\n",
       "      <td>1</td>\n",
       "      <td>4305</td>\n",
       "      <td>0.562157</td>\n",
       "    </tr>\n",
       "    <tr>\n",
       "      <th>2</th>\n",
       "      <td>Horwitz Defense</td>\n",
       "      <td>1</td>\n",
       "      <td>9257</td>\n",
       "      <td>0.555276</td>\n",
       "    </tr>\n",
       "    <tr>\n",
       "      <th>39</th>\n",
       "      <td>Queen\\'s Pawn Game: Zukertort Variation</td>\n",
       "      <td>1</td>\n",
       "      <td>3694</td>\n",
       "      <td>0.541008</td>\n",
       "    </tr>\n",
       "    <tr>\n",
       "      <th>21</th>\n",
       "      <td>Queen\\'s Pawn</td>\n",
       "      <td>1</td>\n",
       "      <td>5154</td>\n",
       "      <td>0.532328</td>\n",
       "    </tr>\n",
       "    <tr>\n",
       "      <th>36</th>\n",
       "      <td>Queen\\'s Pawn Game: Chigorin Variation</td>\n",
       "      <td>1</td>\n",
       "      <td>3877</td>\n",
       "      <td>0.522648</td>\n",
       "    </tr>\n",
       "    <tr>\n",
       "      <th>15</th>\n",
       "      <td>Queen\\'s Pawn Game #2</td>\n",
       "      <td>1</td>\n",
       "      <td>5586</td>\n",
       "      <td>0.518663</td>\n",
       "    </tr>\n",
       "    <tr>\n",
       "      <th>7</th>\n",
       "      <td>Owen Defense</td>\n",
       "      <td>1</td>\n",
       "      <td>7013</td>\n",
       "      <td>0.515624</td>\n",
       "    </tr>\n",
       "    <tr>\n",
       "      <th>16</th>\n",
       "      <td>Hungarian Opening</td>\n",
       "      <td>1</td>\n",
       "      <td>5483</td>\n",
       "      <td>0.508109</td>\n",
       "    </tr>\n",
       "    <tr>\n",
       "      <th>27</th>\n",
       "      <td>Philidor Defense #2</td>\n",
       "      <td>1</td>\n",
       "      <td>4393</td>\n",
       "      <td>0.505117</td>\n",
       "    </tr>\n",
       "    <tr>\n",
       "      <th>10</th>\n",
       "      <td>French Defense: Knight Variation</td>\n",
       "      <td>1</td>\n",
       "      <td>6338</td>\n",
       "      <td>0.503495</td>\n",
       "    </tr>\n",
       "    <tr>\n",
       "      <th>5</th>\n",
       "      <td>Modern Defense</td>\n",
       "      <td>1</td>\n",
       "      <td>8222</td>\n",
       "      <td>0.484359</td>\n",
       "    </tr>\n",
       "    <tr>\n",
       "      <th>37</th>\n",
       "      <td>Queen\\'s Pawn Game</td>\n",
       "      <td>1</td>\n",
       "      <td>3775</td>\n",
       "      <td>0.474187</td>\n",
       "    </tr>\n",
       "    <tr>\n",
       "      <th>22</th>\n",
       "      <td>Caro-Kann Defense</td>\n",
       "      <td>1</td>\n",
       "      <td>5069</td>\n",
       "      <td>0.465644</td>\n",
       "    </tr>\n",
       "    <tr>\n",
       "      <th>24</th>\n",
       "      <td>Scandinavian Defense</td>\n",
       "      <td>1</td>\n",
       "      <td>4568</td>\n",
       "      <td>0.460530</td>\n",
       "    </tr>\n",
       "    <tr>\n",
       "      <th>1</th>\n",
       "      <td>Van\\'t Kruijs Opening</td>\n",
       "      <td>1</td>\n",
       "      <td>9826</td>\n",
       "      <td>0.443832</td>\n",
       "    </tr>\n",
       "    <tr>\n",
       "      <th>30</th>\n",
       "      <td>Sicilian Defense: Bowdler Attack</td>\n",
       "      <td>1</td>\n",
       "      <td>4201</td>\n",
       "      <td>0.418885</td>\n",
       "    </tr>\n",
       "    <tr>\n",
       "      <th>23</th>\n",
       "      <td>Sicilian Defense</td>\n",
       "      <td>1</td>\n",
       "      <td>4626</td>\n",
       "      <td>0.410908</td>\n",
       "    </tr>\n",
       "  </tbody>\n",
       "</table>\n",
       "</div>"
      ],
      "text/plain": [
       "                                          Opening  wWin  n_win  Win Rate\n",
       "4   Scandinavian Defense: Mieses-Kotroc Variation     1   8240  0.572699\n",
       "26               French Defense: Normal Variation     1   4509  0.571410\n",
       "19                            Philidor Defense #3     1   5242  0.568670\n",
       "28                              Bishop\\'s Opening     1   4305  0.562157\n",
       "2                                 Horwitz Defense     1   9257  0.555276\n",
       "39        Queen\\'s Pawn Game: Zukertort Variation     1   3694  0.541008\n",
       "21                                  Queen\\'s Pawn     1   5154  0.532328\n",
       "36         Queen\\'s Pawn Game: Chigorin Variation     1   3877  0.522648\n",
       "15                          Queen\\'s Pawn Game #2     1   5586  0.518663\n",
       "7                                    Owen Defense     1   7013  0.515624\n",
       "16                              Hungarian Opening     1   5483  0.508109\n",
       "27                            Philidor Defense #2     1   4393  0.505117\n",
       "10               French Defense: Knight Variation     1   6338  0.503495\n",
       "5                                  Modern Defense     1   8222  0.484359\n",
       "37                             Queen\\'s Pawn Game     1   3775  0.474187\n",
       "22                              Caro-Kann Defense     1   5069  0.465644\n",
       "24                           Scandinavian Defense     1   4568  0.460530\n",
       "1                           Van\\'t Kruijs Opening     1   9826  0.443832\n",
       "30               Sicilian Defense: Bowdler Attack     1   4201  0.418885\n",
       "23                               Sicilian Defense     1   4626  0.410908"
      ]
     },
     "execution_count": 11,
     "metadata": {},
     "output_type": "execute_result"
    }
   ],
   "source": [
    "df_op_win[df_op_win['wWin'] == 1].head(20).sort_values(by = 'Win Rate', ascending=False)"
   ]
  },
  {
   "cell_type": "markdown",
   "metadata": {},
   "source": [
    "### End of the game"
   ]
  },
  {
   "cell_type": "markdown",
   "metadata": {},
   "source": [
    "The normal way of ending a game is either resignation, checkmate, or stalemate."
   ]
  },
  {
   "cell_type": "code",
   "execution_count": 13,
   "metadata": {
    "ExecuteTime": {
     "end_time": "2021-03-08T11:13:11.223535Z",
     "start_time": "2021-03-08T11:13:10.434778Z"
    },
    "scrolled": false
   },
   "outputs": [
    {
     "data": {
      "image/png": "[encoded data removed]",
      "text/plain": [
       "<Figure size 432x288 with 1 Axes>"
      ]
     },
     "metadata": {
      "needs_background": "light"
     },
     "output_type": "display_data"
    }
   ],
   "source": [
    "df.groupby('Termination Type')['PGN'].count().plot(kind='bar', title ='How does the game ends ?', log=True);"
   ]
  },
  {
   "cell_type": "code",
   "execution_count": 14,
   "metadata": {
    "ExecuteTime": {
     "end_time": "2021-03-08T11:13:12.853280Z",
     "start_time": "2021-03-08T11:13:12.572312Z"
    }
   },
   "outputs": [
    {
     "name": "stdout",
     "output_type": "stream",
     "text": [
      "The Whites won 427513 times\n",
      "The Blacks won 385198 times\n",
      "There was a draw 30519 times\n"
     ]
    }
   ],
   "source": [
    "wWin = len(df[df['wWin'] == 1])\n",
    "bWin = len(df[df['bWin'] == 1])\n",
    "draw = len(df[df['Draw'] == 1])\n",
    "\n",
    "print('The Whites won %s times' % wWin)\n",
    "print('The Blacks won %s times' % bWin)\n",
    "print('There was a draw %s times' % draw)"
   ]
  },
  {
   "cell_type": "markdown",
   "metadata": {},
   "source": [
    "### Level of players\n",
    "\n",
    "Their difference"
   ]
  },
  {
   "cell_type": "code",
   "execution_count": 17,
   "metadata": {
    "ExecuteTime": {
     "end_time": "2021-03-08T11:13:26.777392Z",
     "start_time": "2021-03-08T11:13:25.644854Z"
    }
   },
   "outputs": [
    {
     "data": {
      "image/png": "[encoded data removed]",
      "text/plain": [
       "<Figure size 432x288 with 1 Axes>"
      ]
     },
     "metadata": {
      "needs_background": "light"
     },
     "output_type": "display_data"
    }
   ],
   "source": [
    "diff = pd.DataFrame(df['wElo'] - df['bElo'])\n",
    "diff.boxplot();"
   ]
  },
  {
   "cell_type": "markdown",
   "metadata": {},
   "source": [
    "Their average level"
   ]
  },
  {
   "cell_type": "code",
   "execution_count": 18,
   "metadata": {
    "ExecuteTime": {
     "end_time": "2021-03-08T11:13:27.066425Z",
     "start_time": "2021-03-08T11:13:26.782535Z"
    }
   },
   "outputs": [
    {
     "data": {
      "image/png": "[encoded data removed]",
      "text/plain": [
       "<Figure size 432x288 with 1 Axes>"
      ]
     },
     "metadata": {
      "needs_background": "light"
     },
     "output_type": "display_data"
    }
   ],
   "source": [
    "av = pd.DataFrame((df['wElo'] + df['bElo'])/2)\n",
    "av.hist(bins=20);"
   ]
  },
  {
   "cell_type": "markdown",
   "metadata": {},
   "source": [
    "### On the games "
   ]
  },
  {
   "cell_type": "markdown",
   "metadata": {},
   "source": [
    "Some games are not unique !"
   ]
  },
  {
   "cell_type": "code",
   "execution_count": 19,
   "metadata": {
    "ExecuteTime": {
     "end_time": "2021-03-08T11:13:30.772527Z",
     "start_time": "2021-03-08T11:13:29.300617Z"
    },
    "scrolled": true
   },
   "outputs": [
    {
     "name": "stdout",
     "output_type": "stream",
     "text": [
      "830615 unique games\n",
      "For a total of 843230 games\n"
     ]
    }
   ],
   "source": [
    "print(\"%s unique games\" % len(df[\"PGN\"].unique()))\n",
    "print(\"For a total of %s games\" % len(df))"
   ]
  },
  {
   "cell_type": "markdown",
   "metadata": {},
   "source": [
    "The longest repeated games are 142 character long, repeated twice, and "
   ]
  },
  {
   "cell_type": "code",
   "execution_count": 20,
   "metadata": {
    "ExecuteTime": {
     "end_time": "2021-03-08T11:13:34.994351Z",
     "start_time": "2021-03-08T11:13:33.182376Z"
    }
   },
   "outputs": [
    {
     "data": {
      "text/html": [
       "<div>\n",
       "<style scoped>\n",
       "    .dataframe tbody tr th:only-of-type {\n",
       "        vertical-align: middle;\n",
       "    }\n",
       "\n",
       "    .dataframe tbody tr th {\n",
       "        vertical-align: top;\n",
       "    }\n",
       "\n",
       "    .dataframe thead th {\n",
       "        text-align: right;\n",
       "    }\n",
       "</style>\n",
       "<table border=\"1\" class=\"dataframe\">\n",
       "  <thead>\n",
       "    <tr style=\"text-align: right;\">\n",
       "      <th></th>\n",
       "      <th>PGN</th>\n",
       "      <th>n_repeat</th>\n",
       "      <th>length</th>\n",
       "    </tr>\n",
       "  </thead>\n",
       "  <tbody>\n",
       "    <tr>\n",
       "      <th>36</th>\n",
       "      <td>1. Nf3 c5 2. g3 Nc6 3. Bg2 g6 4. O-O Bg7 5. c4...</td>\n",
       "      <td>2</td>\n",
       "      <td>142</td>\n",
       "    </tr>\n",
       "    <tr>\n",
       "      <th>941</th>\n",
       "      <td>1. e4 e5 2. Bc4 Nf6 3. Nf3 d6 4. Ng5 Be6 5. Bx...</td>\n",
       "      <td>2</td>\n",
       "      <td>140</td>\n",
       "    </tr>\n",
       "    <tr>\n",
       "      <th>1079</th>\n",
       "      <td>1. e4 e5 2. Nf3 Nc6 3. Nc3 Nf6 4. d4 exd4 5. N...</td>\n",
       "      <td>2</td>\n",
       "      <td>138</td>\n",
       "    </tr>\n",
       "    <tr>\n",
       "      <th>382</th>\n",
       "      <td>1. d4 d5 2. c4 e6 3. Nf3 Nf6 4. Bg5 c5 5. e3 N...</td>\n",
       "      <td>2</td>\n",
       "      <td>125</td>\n",
       "    </tr>\n",
       "    <tr>\n",
       "      <th>1189</th>\n",
       "      <td>1. e4 e5 2. Nf3 f6 3. Nxe5 fxe5 4. Qh5+ Ke7 5....</td>\n",
       "      <td>2</td>\n",
       "      <td>123</td>\n",
       "    </tr>\n",
       "    <tr>\n",
       "      <th>1188</th>\n",
       "      <td>1. e4 e5 2. Nf3 f6 3. Nxe5 fxe5 4. Qh5+ Ke7 5....</td>\n",
       "      <td>5</td>\n",
       "      <td>123</td>\n",
       "    </tr>\n",
       "    <tr>\n",
       "      <th>1187</th>\n",
       "      <td>1. e4 e5 2. Nf3 f6 3. Nxe5 fxe5 4. Qh5+ Ke7 5....</td>\n",
       "      <td>5</td>\n",
       "      <td>123</td>\n",
       "    </tr>\n",
       "    <tr>\n",
       "      <th>1301</th>\n",
       "      <td>1. e4 e5 2. f4 exf4 3. Nf3 Be7 4. Bc4 Bh4+ 5. ...</td>\n",
       "      <td>2</td>\n",
       "      <td>122</td>\n",
       "    </tr>\n",
       "    <tr>\n",
       "      <th>1314</th>\n",
       "      <td>1. e4 e5 2. f4 f6 3. fxe5 fxe5 4. Qh5+ Ke7 5. ...</td>\n",
       "      <td>3</td>\n",
       "      <td>122</td>\n",
       "    </tr>\n",
       "    <tr>\n",
       "      <th>1375</th>\n",
       "      <td>1. e4 e6 2. d4 d5 3. e5 c5 4. c3 Nc6 5. Nf3 Qb...</td>\n",
       "      <td>2</td>\n",
       "      <td>121</td>\n",
       "    </tr>\n",
       "  </tbody>\n",
       "</table>\n",
       "</div>"
      ],
      "text/plain": [
       "                                                    PGN  n_repeat  length\n",
       "36    1. Nf3 c5 2. g3 Nc6 3. Bg2 g6 4. O-O Bg7 5. c4...         2     142\n",
       "941   1. e4 e5 2. Bc4 Nf6 3. Nf3 d6 4. Ng5 Be6 5. Bx...         2     140\n",
       "1079  1. e4 e5 2. Nf3 Nc6 3. Nc3 Nf6 4. d4 exd4 5. N...         2     138\n",
       "382   1. d4 d5 2. c4 e6 3. Nf3 Nf6 4. Bg5 c5 5. e3 N...         2     125\n",
       "1189  1. e4 e5 2. Nf3 f6 3. Nxe5 fxe5 4. Qh5+ Ke7 5....         2     123\n",
       "1188  1. e4 e5 2. Nf3 f6 3. Nxe5 fxe5 4. Qh5+ Ke7 5....         5     123\n",
       "1187  1. e4 e5 2. Nf3 f6 3. Nxe5 fxe5 4. Qh5+ Ke7 5....         5     123\n",
       "1301  1. e4 e5 2. f4 exf4 3. Nf3 Be7 4. Bc4 Bh4+ 5. ...         2     122\n",
       "1314  1. e4 e5 2. f4 f6 3. fxe5 fxe5 4. Qh5+ Ke7 5. ...         3     122\n",
       "1375  1. e4 e6 2. d4 d5 3. e5 c5 4. c3 Nc6 5. Nf3 Qb...         2     121"
      ]
     },
     "execution_count": 20,
     "metadata": {},
     "output_type": "execute_result"
    }
   ],
   "source": [
    "repeated = df[df.duplicated(subset=['PGN'],keep=False)].groupby('PGN').count().reset_index()\n",
    "repeated['length'] = repeated['PGN'].str.len()\n",
    "repeated.sort_values('length', ascending=False, inplace=True)\n",
    "repeated[['PGN', 'Mode', 'length']].rename(columns={'Mode':'n_repeat'}, inplace=False).head(10)"
   ]
  },
  {
   "cell_type": "markdown",
   "metadata": {},
   "source": [
    "### Regression analysis\n",
    "\n",
    "Can we predict who will win based on the openings, Elo, and mode ?"
   ]
  },
  {
   "cell_type": "code",
   "execution_count": null,
   "metadata": {},
   "outputs": [],
   "source": [
    "mod = smf.ols(formula='wWin ~ C(Mode) + wElo + bElo + C(ECO)', data=df)\n",
    "res = mod.fit()\n",
    "res.summary()"
   ]
  },
  {
   "cell_type": "code",
   "execution_count": null,
   "metadata": {},
   "outputs": [],
   "source": []
  }
 ],
 "metadata": {
  "kernelspec": {
   "display_name": "Python 3",
   "language": "python",
   "name": "python3"
  },
  "language_info": {
   "codemirror_mode": {
    "name": "ipython",
    "version": 3
   },
   "file_extension": ".py",
   "mimetype": "text/x-python",
   "name": "python",
   "nbconvert_exporter": "python",
   "pygments_lexer": "ipython3",
   "version": "3.8.3"
  },
  "toc": {
   "base_numbering": 1,
   "nav_menu": {},
   "number_sections": true,
   "sideBar": true,
   "skip_h1_title": false,
   "title_cell": "Table of Contents",
   "title_sidebar": "Contents",
   "toc_cell": false,
   "toc_position": {},
   "toc_section_display": true,
   "toc_window_display": false
  }
 },
 "nbformat": 4,
 "nbformat_minor": 4
}
