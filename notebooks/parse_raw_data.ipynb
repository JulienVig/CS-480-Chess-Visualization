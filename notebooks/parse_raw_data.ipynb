{
 "cells": [
  {
   "cell_type": "markdown",
   "metadata": {},
   "source": [
    "# Reading the Raw Data / Essential Imports"
   ]
  },
  {
   "cell_type": "code",
   "execution_count": 13,
   "metadata": {
    "ExecuteTime": {
     "end_time": "2021-03-08T11:11:01.196415Z",
     "start_time": "2021-03-08T11:11:01.192033Z"
    },
    "_cell_guid": "b1076dfc-b9ad-4769-8c92-a6c4dae69d19",
    "_uuid": "8f2839f25d086af736a60e9eeb907d3b93b6e0e5"
   },
   "outputs": [],
   "source": [
    "import bz2\n",
    "import numpy as np\n",
    "import pandas as pd\n",
    "import math\n",
    "import re"
   ]
  },
  {
   "cell_type": "code",
   "execution_count": 3,
   "metadata": {
    "ExecuteTime": {
     "end_time": "2021-03-08T11:08:16.771926Z",
     "start_time": "2021-03-08T11:07:19.816748Z"
    },
    "_cell_guid": "79c7e3d0-c299-4dcb-8224-4455121ee9b0",
    "_uuid": "d629ff2d2480ee46fbb7e2d37f6b5fab8052498a"
   },
   "outputs": [],
   "source": [
    "with bz2.open(\"../data/lichess_db_standard_rated_2014-08.pgn.bz2\", \"rb\") as f:\n",
    "    data = f.read()"
   ]
  },
  {
   "cell_type": "code",
   "execution_count": 4,
   "metadata": {
    "ExecuteTime": {
     "end_time": "2021-03-08T11:08:24.960763Z",
     "start_time": "2021-03-08T11:08:16.777094Z"
    }
   },
   "outputs": [
    {
     "name": "stdout",
     "output_type": "stream",
     "text": [
      "Game at 0th index: b'\n"
     ]
    }
   ],
   "source": [
    "data = str(data) # Convert binary data into string for easier functionality\n",
    "raw_games = data.split('[Event') # Split the data into chess games using the '[Event' string\n",
    "print(\"Game at 0th index: %s\" % raw_games[0])\n",
    "del raw_games[0] # The first index isn't a game\n",
    "del data # Remove binary string to save memory"
   ]
  },
  {
   "cell_type": "markdown",
   "metadata": {},
   "source": [
    "# Raw data EDA\n",
    "\n",
    "<p style=\"font-size:15px; font-family:verdana; line-height: 1.7em; padding-top: 15px\"> In this dataset, there are three types of games: \"normal\" games (consistent with PGN), games with analysis (i.e., there is 'eval' attached which an engine's evaluation of the position), and empty games (no moves were played at all). Below, I give an example of each of these types of games. </p>"
   ]
  },
  {
   "cell_type": "code",
   "execution_count": 5,
   "metadata": {
    "ExecuteTime": {
     "end_time": "2021-03-08T11:08:26.547624Z",
     "start_time": "2021-03-08T11:08:24.965208Z"
    }
   },
   "outputs": [
    {
     "name": "stdout",
     "output_type": "stream",
     "text": [
      "Sample normal game:  \"Rated Classical game\"]\\n[Site \"https://lichess.org/Gg06eUOY\"]\\n[White \"rima65\"]\\n[Black \"aywee\"]\\n[Result \"0-1\"]\\n[UTCDate \"2014.07.31\"]\\n[UTCTime \"22:00:00\"]\\n[WhiteElo \"1407\"]\\n[BlackElo \"1669\"]\\n[WhiteRatingDiff \"-5\"]\\n[BlackRatingDiff \"+5\"]\\n[ECO \"B06\"]\\n[Opening \"Robatsch (Modern) Defense\"]\\n[TimeControl \"420+8\"]\\n[Termination \"Time forfeit\"]\\n\\n1. e4 g6 2. d4 Bg7 3. c3 d6 4. Qf3 Nf6 5. h3 O-O 6. Bg5 Nbd7 7. Bc4 a6 8. h4 b5 9. Bd5 Nxd5 10. exd5 Bb7 11. h5 Nf6 12. h6 Bh8 13. Bxf6 Bxf6 14. Nd2 Qd7 15. Qh3 Qxh3 16. Rxh3 Bxd5 17. g4 Be6 18. Rg3 Bh4 19. Rg2 f5 20. Ngf3 Bf6 21. g5 Bh8 22. Nh4 c5 23. Rh2 cxd4 24. cxd4 Bxd4 25. Nxg6 hxg6 26. h7+ Kh8 27. Nf3 Bxb2 28. Rb1 Bc3+ 29. Kf1 Rf7 30. Nh4 Rg7 31. Nf3 Rxh7 32. Rxh7+ Kxh7 33. Rc1 b4 34. Ke2 Bxa2 35. Nd2 Kg7 36. Nf3 e5 37. Nh4 a5 38. Rd1 Bc4+ 39. Ke3 d5 40. Nf3 a4 41. Nd2 Bxd2+ 0-1\\n\\n\n",
      "\n",
      "Sample game with analysis attached:  \"Rated Bullet game\"]\\n[Site \"https://lichess.org/s3CHmrgH\"]\\n[White \"JekyllHyde\"]\\n[Black \"Maconouchi\"]\\n[Result \"1-0\"]\\n[UTCDate \"2014.07.31\"]\\n[UTCTime \"22:01:10\"]\\n[WhiteElo \"1627\"]\\n[BlackElo \"1662\"]\\n[WhiteRatingDiff \"+52\"]\\n[BlackRatingDiff \"-13\"]\\n[ECO \"B01\"]\\n[Opening \"Scandinavian Defense: Modern Variation #2\"]\\n[TimeControl \"60+0\"]\\n[Termination \"Normal\"]\\n\\n1. e4 { [%eval 0.2] } 1... d5 { [%eval 0.47] } 2. exd5 { [%eval 0.45] } 2... Nf6 { [%eval 0.58] } 3. Nc3 { [%eval 0.38] } 3... Nxd5 { [%eval 0.32] } 4. Nf3 { [%eval 0.27] } 4... Nc6 { [%eval 0.52] } 5. d4 { [%eval 0.43] } 5... e6 { [%eval 0.51] } 6. Be3 { [%eval 0.13] } 6... Bb4 { [%eval 0.26] } 7. Bd2 { [%eval 0.22] } 7... O-O { [%eval 0.29] } 8. a3 { [%eval -0.04] } 8... Bxc3 { [%eval 0.0] } 9. Bxc3 { [%eval -0.49] } 9... Nxc3 { [%eval -0.42] } 10. bxc3 { [%eval -0.43] } 10... Qf6 { [%eval 0.03] } 11. Bd3 { [%eval -0.27] } 11... h6?! { [%eval 0.57] } 12. O-O { [%eval 0.41] } 12... Re8 { [%eval 0.65] } 13. Qe2 { [%eval 0.61] } 13... b6 { [%eval 0.68] } 14. Rae1 { [%eval 0.46] } 14... Bb7 { [%eval 0.38] } 15. c4? { [%eval -1.46] } 15... Rab8? { [%eval 0.37] } 16. c3 { [%eval 0.39] } 16... Ne7 { [%eval 0.48] } 17. Ne5 { [%eval 0.31] } 17... c5? { [%eval 1.56] } 18. Nd7 { [%eval 1.52] } 18... Rbc8?? { [%eval 9.65] } 19. Nxf6+ { [%eval 9.61] } 1-0\\n\\n\n",
      "\n",
      "Sample empty game:  \"Rated Blitz tournament https://lichess.org/tournament/NUDfs3HE\"]\\n[Site \"https://lichess.org/C55qDJ5v\"]\\n[White \"vonv\"]\\n[Black \"kasikelatino\"]\\n[Result \"1-0\"]\\n[UTCDate \"2014.08.01\"]\\n[UTCTime \"21:56:24\"]\\n[WhiteElo \"1524\"]\\n[BlackElo \"1726\"]\\n[ECO \"?\"]\\n[Opening \"?\"]\\n[TimeControl \"300+0\"]\\n[Termination \"Normal\"]\\n\\n 1-0\\n\\n\n"
     ]
    }
   ],
   "source": [
    "analysis_games = 0\n",
    "empty_games = 0\n",
    "\n",
    "print(\"Sample normal game: %s\\n\" % raw_games[0])\n",
    "for game in raw_games:\n",
    "    if game.find('eval') != -1:\n",
    "        if analysis_games == 0:\n",
    "            print(\"Sample game with analysis attached: %s\\n\" % game)\n",
    "        analysis_games += 1\n",
    "\n",
    "for game in raw_games:\n",
    "    if game.find('1.') == -1:\n",
    "        if empty_games == 0:\n",
    "            print(\"Sample empty game: %s\" % game)\n",
    "        empty_games += 1"
   ]
  },
  {
   "cell_type": "code",
   "execution_count": 6,
   "metadata": {
    "ExecuteTime": {
     "end_time": "2021-03-08T11:08:26.559293Z",
     "start_time": "2021-03-08T11:08:26.550151Z"
    },
    "_kg_hide-input": true
   },
   "outputs": [
    {
     "name": "stdout",
     "output_type": "stream",
     "text": [
      "Number of total games: 1013294\n",
      "Number of normal games: 843230\n",
      "Number of games with eval attached: 169854\n",
      "Number of empty games: 210\n"
     ]
    }
   ],
   "source": [
    "normal_games = len(raw_games)-analysis_games-empty_games\n",
    "\n",
    "print(\"Number of total games: %d\" % len(raw_games))\n",
    "print(\"Number of normal games: %d\" % normal_games)\n",
    "print(\"Number of games with eval attached: %d\" % analysis_games)\n",
    "print(\"Number of empty games: %d\" % empty_games)"
   ]
  },
  {
   "cell_type": "markdown",
   "metadata": {},
   "source": [
    "# Data Cleaning\n",
    "\n",
    "The `EVAL` variable denotes if we parse games with eval or not. Depending on this variable we only keep normal games or games with eval as the parsing is different in each case."
   ]
  },
  {
   "cell_type": "code",
   "execution_count": 7,
   "metadata": {
    "ExecuteTime": {
     "end_time": "2021-03-08T11:09:27.287874Z",
     "start_time": "2021-03-08T11:09:27.282967Z"
    }
   },
   "outputs": [],
   "source": [
    "EVAL = True"
   ]
  },
  {
   "cell_type": "code",
   "execution_count": 8,
   "metadata": {
    "ExecuteTime": {
     "end_time": "2021-03-08T11:09:29.184905Z",
     "start_time": "2021-03-08T11:09:28.117758Z"
    }
   },
   "outputs": [],
   "source": [
    "all_games = []\n",
    "for i in range(len(raw_games)):\n",
    "    if EVAL:\n",
    "        if raw_games[i].find('eval') != -1:\n",
    "            all_games.append(raw_games[i])\n",
    "    elif raw_games[i].find('eval') == -1 and raw_games[i].find('1.') != -1:\n",
    "        all_games.append(raw_games[i])\n",
    "\n",
    "\n",
    "del raw_games # remove old uncleaned version to save memory"
   ]
  },
  {
   "cell_type": "code",
   "execution_count": 9,
   "metadata": {
    "ExecuteTime": {
     "end_time": "2021-03-08T11:09:32.302518Z",
     "start_time": "2021-03-08T11:09:32.291432Z"
    },
    "scrolled": true
   },
   "outputs": [
    {
     "data": {
      "text/plain": [
       "169854"
      ]
     },
     "execution_count": 9,
     "metadata": {},
     "output_type": "execute_result"
    }
   ],
   "source": [
    "len(all_games)"
   ]
  },
  {
   "cell_type": "code",
   "execution_count": 10,
   "metadata": {
    "ExecuteTime": {
     "end_time": "2021-03-08T11:09:33.874055Z",
     "start_time": "2021-03-08T11:09:33.867742Z"
    }
   },
   "outputs": [
    {
     "data": {
      "text/plain": [
       "' \"Rated Classical game\"]\\\\n[Site \"https://lichess.org/CZl9BDW6\"]\\\\n[White \"arbutus\"]\\\\n[Black \"Guendabiaani\"]\\\\n[Result \"1-0\"]\\\\n[UTCDate \"2014.07.31\"]\\\\n[UTCTime \"22:00:03\"]\\\\n[WhiteElo \"1417\"]\\\\n[BlackElo \"1500\"]\\\\n[WhiteRatingDiff \"+9\"]\\\\n[BlackRatingDiff \"-222\"]\\\\n[ECO \"D00\"]\\\\n[Opening \"Queen\\\\\\'s Pawn Game #2\"]\\\\n[TimeControl \"900+8\"]\\\\n[Termination \"Normal\"]\\\\n\\\\n1. d4 { [%eval 0.24] } 1... d5 { [%eval 0.24] } 2. e3 { [%eval 0.19] } 2... Nc6 { [%eval 0.31] } 3. c3 { [%eval -0.1] } 3... Nf6 { [%eval 0.1] } 4. h3 { [%eval -0.34] } 4... Bd7 { [%eval 0.0] } 5. Qf3? { [%eval -1.02] } 5... e6 { [%eval -0.62] } 6. b4 { [%eval -0.96] } 6... Bd6 { [%eval -1.06] } 7. Bd3 { [%eval -0.96] } 7... O-O { [%eval -0.96] } 8. Ne2? { [%eval -3.23] } 8... Re8? { [%eval -0.96] } 9. Ng3? { [%eval -2.01] } 9... e5 { [%eval -2.07] } 10. Nh5?! { [%eval -3.0] } 10... Nxh5?! { [%eval -2.31] } 11. Qxh5 { [%eval -2.18] } 11... e4?! { [%eval -1.21] } 12. Be2 { [%eval -1.51] } 12... Be6 { [%eval -1.15] } 13. Bg4 { [%eval -1.18] } 13... Bxg4? { [%eval -0.1] } 14. hxg4 { [%eval -0.07] } 14... h6 { [%eval -0.1] } 15. Qxd5? { [%eval -2.99] } 15... Nxb4 { [%eval -3.16] } 16. cxb4?? { [%eval -8.33] } 16... Bxb4+ { [%eval -8.14] } 17. Bd2 { [%eval -8.31] } 17... Bxd2+ { [%eval -8.13] } 18. Nxd2 { [%eval -8.27] } 18... Qxd5 { [%eval -8.4] } 19. g5 { [%eval -8.64] } 19... hxg5 { [%eval -8.88] } 20. O-O-O? { [%eval -15.81] } 20... Qc6+ { [%eval -10.53] } 21. Kb1 { [%eval -9.84] } 21... Qb5+ { [%eval -10.43] } 22. Ka1 { [%eval -10.68] } 22... Kf8? { [%eval -8.6] } 23. Rc1 { [%eval -8.71] } 23... Qb6?! { [%eval -7.87] } 24. Nc4?! { [%eval -8.68] } 24... Qb4 { [%eval -8.47] } 25. Ne5 { [%eval -8.91] } 25... Rad8?? { [%eval -5.9] } 26. Rxc7 { [%eval -5.93] } 26... Rc8?? { [%eval #1] } 27. Rh8# 1-0\\\\n\\\\n'"
      ]
     },
     "execution_count": 10,
     "metadata": {},
     "output_type": "execute_result"
    }
   ],
   "source": [
    "game = all_games[1]\n",
    "game"
   ]
  },
  {
   "cell_type": "markdown",
   "metadata": {},
   "source": [
    "# Converting data into dataframe\n",
    "\n",
    "In this section, I convert the raw data I have into a pandas dataframe, so that later it can be transformed into a readable CSV file."
   ]
  },
  {
   "cell_type": "code",
   "execution_count": 11,
   "metadata": {
    "ExecuteTime": {
     "end_time": "2021-03-08T11:10:47.583126Z",
     "start_time": "2021-03-08T11:10:47.567676Z"
    }
   },
   "outputs": [],
   "source": [
    "def extract_pgn(game):\n",
    "    if EVAL:\n",
    "        game = re.sub(\"[\\{].*?[\\}] \", \"\", re.sub('[0-9]+\\.\\.\\.', \"\", game))\n",
    "    index = game.find(\"1. \") + 2\n",
    "    while True:\n",
    "        if game[index:index+2] == '0-' or game[index:index+2] == '1-' or game[index:index+2] == '1/':\n",
    "            # Game termination\n",
    "            break\n",
    "        index += 1\n",
    "    return game[game.find(\"1.\"):index-1]\n",
    "    \n",
    "def extract_eval(game):\n",
    "#     return [float(re.findall(\"\\d+\\.\\d+\",s)[0]) for s in re.findall(r'\\{.*?\\}', game)]\n",
    "    return [s[9:-3] for s in re.findall(r'\\{.*?\\}', game)]\n",
    "\n",
    "def extract_info(starting_str, ending_str='\"'):\n",
    "    index = game.find(starting_str) + len(starting_str) + 1\n",
    "    s = \"\"\n",
    "    while True:\n",
    "        if game[index] == ending_str:\n",
    "            break\n",
    "        s += game[index]\n",
    "        index += 1\n",
    "    return s"
   ]
  },
  {
   "cell_type": "code",
   "execution_count": 14,
   "metadata": {
    "ExecuteTime": {
     "end_time": "2021-03-08T11:12:40.013278Z",
     "start_time": "2021-03-08T11:11:06.243383Z"
    }
   },
   "outputs": [
    {
     "name": "stdout",
     "output_type": "stream",
     "text": [
      "CPU times: user 1min 30s, sys: 1.92 s, total: 1min 32s\n",
      "Wall time: 1min 33s\n"
     ]
    }
   ],
   "source": [
    "%%time\n",
    "PGN_list = []\n",
    "eval_list = []\n",
    "mode_list = []\n",
    "termination_list = []\n",
    "site_list = []\n",
    "UTCDate = []\n",
    "UTCTime = []\n",
    "eco = []\n",
    "opening = []\n",
    "timeControl = []\n",
    "wElo, bElo = [], []\n",
    "wPseudo, bPseudo = [],[]\n",
    "wWins, bWins, draws = [], [], []\n",
    "wRatingDiff, bRatingDiff = [], []\n",
    "\n",
    "for i, game in enumerate(all_games):\n",
    "    # PGN\n",
    "    PGN_list.append(extract_pgn(game))\n",
    "    try:\n",
    "        eval_list.append(extract_eval(game))\n",
    "    except:\n",
    "        print(i)\n",
    "    # Result\n",
    "    index = game.find('Result')+8\n",
    "    result = game[index:index+2]\n",
    "    white = 0\n",
    "    black = 0\n",
    "    draw = 0\n",
    "    if result == \"1-\":\n",
    "        white = 1\n",
    "    elif result == \"0-\":\n",
    "        black = 1 \n",
    "    elif result == \"1/\":\n",
    "        draw = 1\n",
    "    wWins.append(white)\n",
    "    bWins.append(black)\n",
    "    draws.append(draw)\n",
    "    \n",
    "    # Mode\n",
    "    mode_list.append(extract_info(\"d\",\" \"))\n",
    "    # Elo\n",
    "    wElo.append(int(extract_info('WhiteElo ')))\n",
    "    bElo.append(int(extract_info('BlackElo ')))\n",
    "    \n",
    "    termination_list.append(extract_info(\"Termination \"))\n",
    "    site_list.append(extract_info(\"Site \"))\n",
    "    wPseudo.append(extract_info(\"White \"))\n",
    "    bPseudo.append(extract_info(\"Black \"))  \n",
    "    UTCDate.append(extract_info(\"UTCDate \"))\n",
    "    UTCTime.append(extract_info(\"UTCTime \"))\n",
    "    eco.append(extract_info(\"ECO \"))\n",
    "    opening.append(extract_info(\"Opening \"))\n",
    "    timeControl.append(extract_info(\"TimeControl \"))\n",
    "    wRatingDiff.append(extract_info(\"WhiteRatingDiff \"))\n",
    "    bRatingDiff.append(extract_info(\"BlackRatingDiff \"))"
   ]
  },
  {
   "cell_type": "code",
   "execution_count": 15,
   "metadata": {
    "ExecuteTime": {
     "end_time": "2021-03-08T11:12:40.821648Z",
     "start_time": "2021-03-08T11:12:40.021572Z"
    }
   },
   "outputs": [],
   "source": [
    "chess_df = pd.DataFrame({})\n",
    "chess_df['PGN'] = PGN_list\n",
    "chess_df['Eval'] = eval_list\n",
    "chess_df['Mode'] = mode_list\n",
    "chess_df['Site'] = site_list\n",
    "chess_df['UTCDate'] = UTCDate\n",
    "chess_df['UTCTime'] = UTCTime\n",
    "chess_df['ECO'] = eco\n",
    "chess_df['Opening'] = opening\n",
    "chess_df['TimeControl'] = timeControl\n",
    "chess_df['Termination Type'] = termination_list\n",
    "chess_df['wElo'] = wElo\n",
    "chess_df['bElo'] = bElo\n",
    "chess_df['wWin'] = wWins\n",
    "chess_df['bWin'] = bWins\n",
    "chess_df['Draw'] = draws\n",
    "chess_df['wPseudo'] = wPseudo\n",
    "chess_df['bPseudo'] = bPseudo\n",
    "chess_df['wRatingDiff'] = wRatingDiff\n",
    "chess_df['bRatingDiff'] = bRatingDiff"
   ]
  },
  {
   "cell_type": "code",
   "execution_count": 16,
   "metadata": {
    "ExecuteTime": {
     "end_time": "2021-03-08T11:12:40.868077Z",
     "start_time": "2021-03-08T11:12:40.825417Z"
    }
   },
   "outputs": [
    {
     "data": {
      "text/html": [
       "<div>\n",
       "<style scoped>\n",
       "    .dataframe tbody tr th:only-of-type {\n",
       "        vertical-align: middle;\n",
       "    }\n",
       "\n",
       "    .dataframe tbody tr th {\n",
       "        vertical-align: top;\n",
       "    }\n",
       "\n",
       "    .dataframe thead th {\n",
       "        text-align: right;\n",
       "    }\n",
       "</style>\n",
       "<table border=\"1\" class=\"dataframe\">\n",
       "  <thead>\n",
       "    <tr style=\"text-align: right;\">\n",
       "      <th></th>\n",
       "      <th>PGN</th>\n",
       "      <th>Eval</th>\n",
       "      <th>Mode</th>\n",
       "      <th>Site</th>\n",
       "      <th>UTCDate</th>\n",
       "      <th>UTCTime</th>\n",
       "      <th>ECO</th>\n",
       "      <th>Opening</th>\n",
       "      <th>TimeControl</th>\n",
       "      <th>Termination Type</th>\n",
       "      <th>wElo</th>\n",
       "      <th>bElo</th>\n",
       "      <th>wWin</th>\n",
       "      <th>bWin</th>\n",
       "      <th>Draw</th>\n",
       "      <th>wPseudo</th>\n",
       "      <th>bPseudo</th>\n",
       "      <th>wRatingDiff</th>\n",
       "      <th>bRatingDiff</th>\n",
       "    </tr>\n",
       "  </thead>\n",
       "  <tbody>\n",
       "    <tr>\n",
       "      <th>0</th>\n",
       "      <td>1. e4  d5 2. exd5  Nf6 3. Nc3  Nxd5 4. Nf3  Nc...</td>\n",
       "      <td>[0.2, 0.47, 0.45, 0.58, 0.38, 0.32, 0.27, 0.52...</td>\n",
       "      <td>Bullet</td>\n",
       "      <td>https://lichess.org/s3CHmrgH</td>\n",
       "      <td>2014.07.31</td>\n",
       "      <td>22:01:10</td>\n",
       "      <td>B01</td>\n",
       "      <td>Scandinavian Defense: Modern Variation #2</td>\n",
       "      <td>60+0</td>\n",
       "      <td>Normal</td>\n",
       "      <td>1627</td>\n",
       "      <td>1662</td>\n",
       "      <td>1</td>\n",
       "      <td>0</td>\n",
       "      <td>0</td>\n",
       "      <td>JekyllHyde</td>\n",
       "      <td>Maconouchi</td>\n",
       "      <td>+52</td>\n",
       "      <td>-13</td>\n",
       "    </tr>\n",
       "    <tr>\n",
       "      <th>1</th>\n",
       "      <td>1. d4  d5 2. e3  Nc6 3. c3  Nf6 4. h3  Bd7 5. ...</td>\n",
       "      <td>[0.24, 0.24, 0.19, 0.31, -0.1, 0.1, -0.34, 0.0...</td>\n",
       "      <td>Classical</td>\n",
       "      <td>https://lichess.org/CZl9BDW6</td>\n",
       "      <td>2014.07.31</td>\n",
       "      <td>22:00:03</td>\n",
       "      <td>D00</td>\n",
       "      <td>Queen\\'s Pawn Game #2</td>\n",
       "      <td>900+8</td>\n",
       "      <td>Normal</td>\n",
       "      <td>1417</td>\n",
       "      <td>1500</td>\n",
       "      <td>1</td>\n",
       "      <td>0</td>\n",
       "      <td>0</td>\n",
       "      <td>arbutus</td>\n",
       "      <td>Guendabiaani</td>\n",
       "      <td>+9</td>\n",
       "      <td>-222</td>\n",
       "    </tr>\n",
       "  </tbody>\n",
       "</table>\n",
       "</div>"
      ],
      "text/plain": [
       "                                                 PGN  \\\n",
       "0  1. e4  d5 2. exd5  Nf6 3. Nc3  Nxd5 4. Nf3  Nc...   \n",
       "1  1. d4  d5 2. e3  Nc6 3. c3  Nf6 4. h3  Bd7 5. ...   \n",
       "\n",
       "                                                Eval       Mode  \\\n",
       "0  [0.2, 0.47, 0.45, 0.58, 0.38, 0.32, 0.27, 0.52...     Bullet   \n",
       "1  [0.24, 0.24, 0.19, 0.31, -0.1, 0.1, -0.34, 0.0...  Classical   \n",
       "\n",
       "                           Site     UTCDate   UTCTime  ECO  \\\n",
       "0  https://lichess.org/s3CHmrgH  2014.07.31  22:01:10  B01   \n",
       "1  https://lichess.org/CZl9BDW6  2014.07.31  22:00:03  D00   \n",
       "\n",
       "                                     Opening TimeControl Termination Type  \\\n",
       "0  Scandinavian Defense: Modern Variation #2        60+0           Normal   \n",
       "1                      Queen\\'s Pawn Game #2       900+8           Normal   \n",
       "\n",
       "   wElo  bElo  wWin  bWin  Draw     wPseudo       bPseudo wRatingDiff  \\\n",
       "0  1627  1662     1     0     0  JekyllHyde    Maconouchi         +52   \n",
       "1  1417  1500     1     0     0     arbutus  Guendabiaani          +9   \n",
       "\n",
       "  bRatingDiff  \n",
       "0         -13  \n",
       "1        -222  "
      ]
     },
     "execution_count": 16,
     "metadata": {},
     "output_type": "execute_result"
    }
   ],
   "source": [
    "chess_df.head(2)"
   ]
  },
  {
   "cell_type": "code",
   "execution_count": 17,
   "metadata": {
    "ExecuteTime": {
     "end_time": "2021-03-08T11:12:40.878623Z",
     "start_time": "2021-03-08T11:12:40.871900Z"
    }
   },
   "outputs": [],
   "source": [
    "assert len(all_games) == len(chess_df)"
   ]
  },
  {
   "cell_type": "code",
   "execution_count": 18,
   "metadata": {
    "ExecuteTime": {
     "end_time": "2021-03-08T11:12:40.889540Z",
     "start_time": "2021-03-08T11:12:40.882637Z"
    }
   },
   "outputs": [],
   "source": [
    "EXPORT = False\n",
    "\n",
    "if EXPORT:\n",
    "    chess_df.to_csv(\"lichess_complete_with_eval.csv\", index=True, header=True)"
   ]
  },
  {
   "cell_type": "code",
   "execution_count": null,
   "metadata": {},
   "outputs": [],
   "source": []
  }
 ],
 "metadata": {
  "kernelspec": {
   "display_name": "dataviz",
   "language": "python",
   "name": "dataviz"
  },
  "language_info": {
   "codemirror_mode": {
    "name": "ipython",
    "version": 3
   },
   "file_extension": ".py",
   "mimetype": "text/x-python",
   "name": "python",
   "nbconvert_exporter": "python",
   "pygments_lexer": "ipython3",
   "version": "3.7.9"
  },
  "toc": {
   "base_numbering": 1,
   "nav_menu": {},
   "number_sections": true,
   "sideBar": true,
   "skip_h1_title": false,
   "title_cell": "Table of Contents",
   "title_sidebar": "Contents",
   "toc_cell": false,
   "toc_position": {},
   "toc_section_display": true,
   "toc_window_display": false
  }
 },
 "nbformat": 4,
 "nbformat_minor": 4
}
